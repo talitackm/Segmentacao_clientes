{
 "cells": [
  {
   "cell_type": "markdown",
   "metadata": {},
   "source": [
    "1. Importando os pacotes"
   ]
  },
  {
   "cell_type": "code",
   "execution_count": 34,
   "metadata": {},
   "outputs": [],
   "source": [
    "import pandas as pd\n",
    "import numpy as np\n",
    "import matplotlib.pyplot as plt\n",
    "import seaborn as sns\n",
    "import scipy.cluster.hierarchy as sch\n",
    "import scipy.stats as stats\n",
    "from scipy.stats import zscore\n",
    "from scipy.spatial.distance import pdist\n",
    "from sklearn.cluster import AgglomerativeClustering\n",
    "from sklearn.cluster import KMeans\n",
    "from sklearn.metrics import silhouette_score\n",
    "import pingouin as pg\n",
    "import plotly.express as px\n",
    "import plotly.graph_objects as go\n",
    "import plotly.io as pio\n",
    "pio.renderers.default = \"browser\"\n"
   ]
  },
  {
   "cell_type": "markdown",
   "metadata": {},
   "source": [
    "2. Carregando os dados"
   ]
  },
  {
   "cell_type": "code",
   "execution_count": 16,
   "metadata": {},
   "outputs": [],
   "source": [
    "dados_ecommerce = pd.read_csv('data.csv', encoding= 'unicode_escape', sep=',')"
   ]
  },
  {
   "cell_type": "markdown",
   "metadata": {},
   "source": [
    "3. Entendendo os dados"
   ]
  },
  {
   "cell_type": "code",
   "execution_count": 17,
   "metadata": {},
   "outputs": [
    {
     "name": "stdout",
     "output_type": "stream",
     "text": [
      "<class 'pandas.core.frame.DataFrame'>\n",
      "RangeIndex: 541909 entries, 0 to 541908\n",
      "Data columns (total 8 columns):\n",
      " #   Column       Non-Null Count   Dtype  \n",
      "---  ------       --------------   -----  \n",
      " 0   InvoiceNo    541909 non-null  object \n",
      " 1   StockCode    541909 non-null  object \n",
      " 2   Description  540455 non-null  object \n",
      " 3   Quantity     541909 non-null  int64  \n",
      " 4   InvoiceDate  541909 non-null  object \n",
      " 5   UnitPrice    541909 non-null  float64\n",
      " 6   CustomerID   406829 non-null  float64\n",
      " 7   Country      541909 non-null  object \n",
      "dtypes: float64(2), int64(1), object(5)\n",
      "memory usage: 33.1+ MB\n",
      "24.93%, 0.27%\n"
     ]
    }
   ],
   "source": [
    "# Informações gerais das colunas e tipo das variáveis\n",
    "dados_ecommerce.info()\n",
    "\n",
    "# Estatistica descritiva das variáveis\n",
    "tab_desc = dados_ecommerce.describe()\n",
    "\n",
    "# Somando total de valores nulos \n",
    "\n",
    "porc_nulos_costumerID = (dados_ecommerce['CustomerID'].isna().sum() / len(dados_ecommerce['CustomerID'])) * 100\n",
    "porc_nulos_description = (dados_ecommerce['Description'].isna().sum() / len(dados_ecommerce['CustomerID'])) * 100\n",
    "print('{:.2f}%, {:.2f}%'.format(porc_nulos_costumerID,porc_nulos_description))\n",
    "\n"
   ]
  },
  {
   "cell_type": "markdown",
   "metadata": {},
   "source": [
    "- Missing em CostumerID (24,93%) e Description (0,27%)\n",
    "- Valores negativos em Quantity e UnitPrice\n",
    "- InvoiceDate deveria ser tipo date"
   ]
  },
  {
   "cell_type": "markdown",
   "metadata": {},
   "source": [
    "4. Preparação dos dados e limpeza"
   ]
  },
  {
   "cell_type": "code",
   "execution_count": 18,
   "metadata": {},
   "outputs": [
    {
     "name": "stdout",
     "output_type": "stream",
     "text": [
      "<class 'pandas.core.frame.DataFrame'>\n",
      "Index: 406829 entries, 0 to 541908\n",
      "Data columns (total 8 columns):\n",
      " #   Column       Non-Null Count   Dtype  \n",
      "---  ------       --------------   -----  \n",
      " 0   InvoiceNo    406829 non-null  object \n",
      " 1   StockCode    406829 non-null  object \n",
      " 2   Description  406829 non-null  object \n",
      " 3   Quantity     406829 non-null  int64  \n",
      " 4   InvoiceDate  406829 non-null  object \n",
      " 5   UnitPrice    406829 non-null  float64\n",
      " 6   CustomerID   406829 non-null  float64\n",
      " 7   Country      406829 non-null  object \n",
      "dtypes: float64(2), int64(1), object(5)\n",
      "memory usage: 27.9+ MB\n",
      "<class 'pandas.core.frame.DataFrame'>\n",
      "Index: 397924 entries, 0 to 541908\n",
      "Data columns (total 8 columns):\n",
      " #   Column       Non-Null Count   Dtype         \n",
      "---  ------       --------------   -----         \n",
      " 0   InvoiceNo    397924 non-null  object        \n",
      " 1   StockCode    397924 non-null  object        \n",
      " 2   Description  397924 non-null  object        \n",
      " 3   Quantity     397924 non-null  int64         \n",
      " 4   InvoiceDate  397924 non-null  datetime64[ns]\n",
      " 5   UnitPrice    397924 non-null  float64       \n",
      " 6   CustomerID   397924 non-null  int32         \n",
      " 7   Country      397924 non-null  object        \n",
      "dtypes: datetime64[ns](1), float64(1), int32(1), int64(1), object(4)\n",
      "memory usage: 25.8+ MB\n"
     ]
    }
   ],
   "source": [
    "# Removendo os valores missings\n",
    "\n",
    "dados_ecommerce.drop(dados_ecommerce[dados_ecommerce['CustomerID'].isna() | dados_ecommerce['Description'].isna()].index, inplace=True)\n",
    "dados_ecommerce.info()\n",
    "\n",
    "# Removendo valores de Quantity e UnitPrice negativos\n",
    "\n",
    "dados_ecommerce.drop(dados_ecommerce[dados_ecommerce['Quantity']<0].index, inplace=True)\n",
    "dados_ecommerce.describe()\n",
    "\n",
    "# Ajustando tipos de dados errados\n",
    "\n",
    "dados_ecommerce['InvoiceDate']=pd.to_datetime(dados_ecommerce['InvoiceDate'])\n",
    "\n",
    "dados_ecommerce['CustomerID'] = dados_ecommerce['CustomerID'].astype('int')\n",
    "\n",
    "dados_ecommerce.info()"
   ]
  },
  {
   "cell_type": "markdown",
   "metadata": {},
   "source": [
    "- RFM: A análise RFM, sigla para Recency, Frequency, Monetary, é uma metodologia fundamental no campo do marketing e gestão de clientes. Ela envolve a avaliação detalhada do comportamento dos clientes com base em três critérios essenciais: recência, frequência e valor monetário. A análise RFM permite que as empresas segmentem sua base de clientes em grupos distintos, auxiliando na compreensão das características e preferências dos consumidores."
   ]
  },
  {
   "cell_type": "code",
   "execution_count": 19,
   "metadata": {},
   "outputs": [
    {
     "name": "stderr",
     "output_type": "stream",
     "text": [
      "C:\\Users\\Eric\\AppData\\Local\\Temp\\ipykernel_4664\\3308839523.py:7: SettingWithCopyWarning:\n",
      "\n",
      "\n",
      "A value is trying to be set on a copy of a slice from a DataFrame.\n",
      "Try using .loc[row_indexer,col_indexer] = value instead\n",
      "\n",
      "See the caveats in the documentation: https://pandas.pydata.org/pandas-docs/stable/user_guide/indexing.html#returning-a-view-versus-a-copy\n",
      "\n"
     ]
    }
   ],
   "source": [
    "# Calculando Recência: Há quanto tempo os clientes compraram?\n",
    "\n",
    "dados_ecommerce['Rank'] = dados_ecommerce.sort_values(['CustomerID','InvoiceDate']).groupby(['CustomerID'])['InvoiceDate'].rank(method='min').astype(int)\n",
    "primeiras_compras = dados_ecommerce[dados_ecommerce['Rank']==1]\n",
    "\n",
    "data_primeira_compra = pd.to_datetime(min(primeiras_compras['InvoiceDate']))\n",
    "primeiras_compras['Recencia'] = (primeiras_compras['InvoiceDate'] - data_primeira_compra).dt.days"
   ]
  },
  {
   "cell_type": "markdown",
   "metadata": {},
   "source": [
    "- O código nos permite calcular a recência com base na primeira interação de cada cliente com a empresa. Isso proporciona uma medida precisa de quanto tempo se passou desde a primeira compra de cada cliente até a data de referência atual (primeira compra mais antiga), o que é essencial para entender e segmentar clientes com base em seu comportamento de compra recente."
   ]
  },
  {
   "cell_type": "code",
   "execution_count": 20,
   "metadata": {},
   "outputs": [
    {
     "data": {
      "text/html": [
       "<div>\n",
       "<style scoped>\n",
       "    .dataframe tbody tr th:only-of-type {\n",
       "        vertical-align: middle;\n",
       "    }\n",
       "\n",
       "    .dataframe tbody tr th {\n",
       "        vertical-align: top;\n",
       "    }\n",
       "\n",
       "    .dataframe thead th {\n",
       "        text-align: right;\n",
       "    }\n",
       "</style>\n",
       "<table border=\"1\" class=\"dataframe\">\n",
       "  <thead>\n",
       "    <tr style=\"text-align: right;\">\n",
       "      <th></th>\n",
       "      <th>CustomerID</th>\n",
       "      <th>Frequencia</th>\n",
       "    </tr>\n",
       "  </thead>\n",
       "  <tbody>\n",
       "    <tr>\n",
       "      <th>0</th>\n",
       "      <td>12346</td>\n",
       "      <td>1</td>\n",
       "    </tr>\n",
       "    <tr>\n",
       "      <th>1</th>\n",
       "      <td>12347</td>\n",
       "      <td>31</td>\n",
       "    </tr>\n",
       "    <tr>\n",
       "      <th>2</th>\n",
       "      <td>12348</td>\n",
       "      <td>17</td>\n",
       "    </tr>\n",
       "    <tr>\n",
       "      <th>3</th>\n",
       "      <td>12349</td>\n",
       "      <td>73</td>\n",
       "    </tr>\n",
       "    <tr>\n",
       "      <th>4</th>\n",
       "      <td>12350</td>\n",
       "      <td>17</td>\n",
       "    </tr>\n",
       "  </tbody>\n",
       "</table>\n",
       "</div>"
      ],
      "text/plain": [
       "   CustomerID  Frequencia\n",
       "0       12346           1\n",
       "1       12347          31\n",
       "2       12348          17\n",
       "3       12349          73\n",
       "4       12350          17"
      ]
     },
     "execution_count": 20,
     "metadata": {},
     "output_type": "execute_result"
    }
   ],
   "source": [
    "# Calculando a Frequência: Com que frequência os clientes compram?\n",
    "freq = primeiras_compras.groupby('CustomerID')['InvoiceDate'].count()\n",
    "freq_df = pd.DataFrame(freq).reset_index()\n",
    "freq_df.columns = ['CustomerID', 'Frequencia']\n",
    "freq_df.head()"
   ]
  },
  {
   "cell_type": "code",
   "execution_count": 21,
   "metadata": {},
   "outputs": [
    {
     "data": {
      "text/html": [
       "<div>\n",
       "<style scoped>\n",
       "    .dataframe tbody tr th:only-of-type {\n",
       "        vertical-align: middle;\n",
       "    }\n",
       "\n",
       "    .dataframe tbody tr th {\n",
       "        vertical-align: top;\n",
       "    }\n",
       "\n",
       "    .dataframe thead th {\n",
       "        text-align: right;\n",
       "    }\n",
       "</style>\n",
       "<table border=\"1\" class=\"dataframe\">\n",
       "  <thead>\n",
       "    <tr style=\"text-align: right;\">\n",
       "      <th></th>\n",
       "      <th>CustomerID</th>\n",
       "      <th>Frequencia</th>\n",
       "      <th>InvoiceNo</th>\n",
       "      <th>StockCode</th>\n",
       "      <th>Description</th>\n",
       "      <th>Quantity</th>\n",
       "      <th>InvoiceDate</th>\n",
       "      <th>UnitPrice</th>\n",
       "      <th>Country</th>\n",
       "      <th>Rank</th>\n",
       "      <th>Recencia</th>\n",
       "    </tr>\n",
       "  </thead>\n",
       "  <tbody>\n",
       "    <tr>\n",
       "      <th>0</th>\n",
       "      <td>12346</td>\n",
       "      <td>1</td>\n",
       "      <td>541431</td>\n",
       "      <td>23166</td>\n",
       "      <td>MEDIUM CERAMIC TOP STORAGE JAR</td>\n",
       "      <td>74215</td>\n",
       "      <td>2011-01-18 10:01:00</td>\n",
       "      <td>1.04</td>\n",
       "      <td>United Kingdom</td>\n",
       "      <td>1</td>\n",
       "      <td>48</td>\n",
       "    </tr>\n",
       "    <tr>\n",
       "      <th>1</th>\n",
       "      <td>12347</td>\n",
       "      <td>31</td>\n",
       "      <td>537626</td>\n",
       "      <td>85116</td>\n",
       "      <td>BLACK CANDELABRA T-LIGHT HOLDER</td>\n",
       "      <td>12</td>\n",
       "      <td>2010-12-07 14:57:00</td>\n",
       "      <td>2.10</td>\n",
       "      <td>Iceland</td>\n",
       "      <td>1</td>\n",
       "      <td>6</td>\n",
       "    </tr>\n",
       "    <tr>\n",
       "      <th>2</th>\n",
       "      <td>12347</td>\n",
       "      <td>31</td>\n",
       "      <td>537626</td>\n",
       "      <td>22375</td>\n",
       "      <td>AIRLINE BAG VINTAGE JET SET BROWN</td>\n",
       "      <td>4</td>\n",
       "      <td>2010-12-07 14:57:00</td>\n",
       "      <td>4.25</td>\n",
       "      <td>Iceland</td>\n",
       "      <td>1</td>\n",
       "      <td>6</td>\n",
       "    </tr>\n",
       "    <tr>\n",
       "      <th>3</th>\n",
       "      <td>12347</td>\n",
       "      <td>31</td>\n",
       "      <td>537626</td>\n",
       "      <td>71477</td>\n",
       "      <td>COLOUR GLASS. STAR T-LIGHT HOLDER</td>\n",
       "      <td>12</td>\n",
       "      <td>2010-12-07 14:57:00</td>\n",
       "      <td>3.25</td>\n",
       "      <td>Iceland</td>\n",
       "      <td>1</td>\n",
       "      <td>6</td>\n",
       "    </tr>\n",
       "    <tr>\n",
       "      <th>4</th>\n",
       "      <td>12347</td>\n",
       "      <td>31</td>\n",
       "      <td>537626</td>\n",
       "      <td>22492</td>\n",
       "      <td>MINI PAINT SET VINTAGE</td>\n",
       "      <td>36</td>\n",
       "      <td>2010-12-07 14:57:00</td>\n",
       "      <td>0.65</td>\n",
       "      <td>Iceland</td>\n",
       "      <td>1</td>\n",
       "      <td>6</td>\n",
       "    </tr>\n",
       "  </tbody>\n",
       "</table>\n",
       "</div>"
      ],
      "text/plain": [
       "   CustomerID  Frequencia InvoiceNo StockCode  \\\n",
       "0       12346           1    541431     23166   \n",
       "1       12347          31    537626     85116   \n",
       "2       12347          31    537626     22375   \n",
       "3       12347          31    537626     71477   \n",
       "4       12347          31    537626     22492   \n",
       "\n",
       "                         Description  Quantity         InvoiceDate  UnitPrice  \\\n",
       "0     MEDIUM CERAMIC TOP STORAGE JAR     74215 2011-01-18 10:01:00       1.04   \n",
       "1    BLACK CANDELABRA T-LIGHT HOLDER        12 2010-12-07 14:57:00       2.10   \n",
       "2  AIRLINE BAG VINTAGE JET SET BROWN         4 2010-12-07 14:57:00       4.25   \n",
       "3  COLOUR GLASS. STAR T-LIGHT HOLDER        12 2010-12-07 14:57:00       3.25   \n",
       "4            MINI PAINT SET VINTAGE         36 2010-12-07 14:57:00       0.65   \n",
       "\n",
       "          Country  Rank  Recencia  \n",
       "0  United Kingdom     1        48  \n",
       "1         Iceland     1         6  \n",
       "2         Iceland     1         6  \n",
       "3         Iceland     1         6  \n",
       "4         Iceland     1         6  "
      ]
     },
     "execution_count": 21,
     "metadata": {},
     "output_type": "execute_result"
    }
   ],
   "source": [
    "# Juntando os dataframes\n",
    "rec_freq = freq_df.merge(primeiras_compras, on= 'CustomerID')\n",
    "rec_freq.head()"
   ]
  },
  {
   "cell_type": "code",
   "execution_count": 22,
   "metadata": {},
   "outputs": [
    {
     "data": {
      "text/html": [
       "<div>\n",
       "<style scoped>\n",
       "    .dataframe tbody tr th:only-of-type {\n",
       "        vertical-align: middle;\n",
       "    }\n",
       "\n",
       "    .dataframe tbody tr th {\n",
       "        vertical-align: top;\n",
       "    }\n",
       "\n",
       "    .dataframe thead th {\n",
       "        text-align: right;\n",
       "    }\n",
       "</style>\n",
       "<table border=\"1\" class=\"dataframe\">\n",
       "  <thead>\n",
       "    <tr style=\"text-align: right;\">\n",
       "      <th></th>\n",
       "      <th>CustomerID</th>\n",
       "      <th>ValorMonetario</th>\n",
       "    </tr>\n",
       "  </thead>\n",
       "  <tbody>\n",
       "    <tr>\n",
       "      <th>0</th>\n",
       "      <td>12346</td>\n",
       "      <td>77183.60</td>\n",
       "    </tr>\n",
       "    <tr>\n",
       "      <th>1</th>\n",
       "      <td>12347</td>\n",
       "      <td>711.79</td>\n",
       "    </tr>\n",
       "    <tr>\n",
       "      <th>2</th>\n",
       "      <td>12348</td>\n",
       "      <td>892.80</td>\n",
       "    </tr>\n",
       "    <tr>\n",
       "      <th>3</th>\n",
       "      <td>12349</td>\n",
       "      <td>1757.55</td>\n",
       "    </tr>\n",
       "    <tr>\n",
       "      <th>4</th>\n",
       "      <td>12350</td>\n",
       "      <td>334.40</td>\n",
       "    </tr>\n",
       "  </tbody>\n",
       "</table>\n",
       "</div>"
      ],
      "text/plain": [
       "   CustomerID  ValorMonetario\n",
       "0       12346        77183.60\n",
       "1       12347          711.79\n",
       "2       12348          892.80\n",
       "3       12349         1757.55\n",
       "4       12350          334.40"
      ]
     },
     "execution_count": 22,
     "metadata": {},
     "output_type": "execute_result"
    }
   ],
   "source": [
    "# Monetário: Quanto os clientes gastam? \n",
    "rec_freq['Total'] = rec_freq['Quantity'] * rec_freq['UnitPrice']\n",
    "m = rec_freq.groupby('CustomerID')['Total'].sum()\n",
    "m = pd.DataFrame(m).reset_index()\n",
    "m.columns = ['CustomerID', 'ValorMonetario']\n",
    "m.head()\n"
   ]
  },
  {
   "cell_type": "code",
   "execution_count": 23,
   "metadata": {},
   "outputs": [
    {
     "data": {
      "text/html": [
       "<div>\n",
       "<style scoped>\n",
       "    .dataframe tbody tr th:only-of-type {\n",
       "        vertical-align: middle;\n",
       "    }\n",
       "\n",
       "    .dataframe tbody tr th {\n",
       "        vertical-align: top;\n",
       "    }\n",
       "\n",
       "    .dataframe thead th {\n",
       "        text-align: right;\n",
       "    }\n",
       "</style>\n",
       "<table border=\"1\" class=\"dataframe\">\n",
       "  <thead>\n",
       "    <tr style=\"text-align: right;\">\n",
       "      <th></th>\n",
       "      <th>CustomerID</th>\n",
       "      <th>Recencia</th>\n",
       "      <th>Frequencia</th>\n",
       "      <th>ValorMonetario</th>\n",
       "    </tr>\n",
       "  </thead>\n",
       "  <tbody>\n",
       "    <tr>\n",
       "      <th>0</th>\n",
       "      <td>12346</td>\n",
       "      <td>48</td>\n",
       "      <td>1</td>\n",
       "      <td>77183.60</td>\n",
       "    </tr>\n",
       "    <tr>\n",
       "      <th>1</th>\n",
       "      <td>12347</td>\n",
       "      <td>6</td>\n",
       "      <td>31</td>\n",
       "      <td>711.79</td>\n",
       "    </tr>\n",
       "    <tr>\n",
       "      <th>2</th>\n",
       "      <td>12347</td>\n",
       "      <td>6</td>\n",
       "      <td>31</td>\n",
       "      <td>711.79</td>\n",
       "    </tr>\n",
       "    <tr>\n",
       "      <th>3</th>\n",
       "      <td>12347</td>\n",
       "      <td>6</td>\n",
       "      <td>31</td>\n",
       "      <td>711.79</td>\n",
       "    </tr>\n",
       "    <tr>\n",
       "      <th>4</th>\n",
       "      <td>12347</td>\n",
       "      <td>6</td>\n",
       "      <td>31</td>\n",
       "      <td>711.79</td>\n",
       "    </tr>\n",
       "  </tbody>\n",
       "</table>\n",
       "</div>"
      ],
      "text/plain": [
       "   CustomerID  Recencia  Frequencia  ValorMonetario\n",
       "0       12346        48           1        77183.60\n",
       "1       12347         6          31          711.79\n",
       "2       12347         6          31          711.79\n",
       "3       12347         6          31          711.79\n",
       "4       12347         6          31          711.79"
      ]
     },
     "execution_count": 23,
     "metadata": {},
     "output_type": "execute_result"
    }
   ],
   "source": [
    "# Juntando o valor monetario ao df e criando um somente com rfm e CustomerID\n",
    "rfm = m.merge(rec_freq, on='CustomerID')\n",
    "final_df = rfm[['CustomerID', 'Recencia', 'Frequencia', 'ValorMonetario']]\n",
    "final_df.head()\n"
   ]
  },
  {
   "cell_type": "code",
   "execution_count": 24,
   "metadata": {},
   "outputs": [
    {
     "name": "stderr",
     "output_type": "stream",
     "text": [
      "C:\\Users\\Eric\\AppData\\Local\\Temp\\ipykernel_4664\\3768545056.py:2: SettingWithCopyWarning:\n",
      "\n",
      "\n",
      "A value is trying to be set on a copy of a slice from a DataFrame\n",
      "\n",
      "See the caveats in the documentation: https://pandas.pydata.org/pandas-docs/stable/user_guide/indexing.html#returning-a-view-versus-a-copy\n",
      "\n",
      "C:\\Users\\Eric\\AppData\\Local\\Temp\\ipykernel_4664\\3768545056.py:5: SettingWithCopyWarning:\n",
      "\n",
      "\n",
      "A value is trying to be set on a copy of a slice from a DataFrame\n",
      "\n",
      "See the caveats in the documentation: https://pandas.pydata.org/pandas-docs/stable/user_guide/indexing.html#returning-a-view-versus-a-copy\n",
      "\n"
     ]
    }
   ],
   "source": [
    "#Retirando valores duplicados\n",
    "final_df.drop_duplicates(inplace=True)\n",
    "\n",
    "# Removendo a coluna CustomerID\n",
    "final_df.drop(columns='CustomerID', inplace=True)"
   ]
  },
  {
   "cell_type": "code",
   "execution_count": 25,
   "metadata": {},
   "outputs": [
    {
     "name": "stdout",
     "output_type": "stream",
     "text": [
      "Recencia: \n",
      "Frequencia: \n",
      "ValorMonetario: \n"
     ]
    }
   ],
   "source": [
    "# Outliers \n",
    "\n",
    "var_boxplot = ['Recencia', 'Frequencia', 'ValorMonetario']\n",
    "\n",
    "\n",
    "for i in var_boxplot:\n",
    "    print(str(i)+': ')\n",
    "    fig = px.box(final_df,\n",
    "                x = final_df[i])\n",
    "    fig.show()\n"
   ]
  },
  {
   "cell_type": "markdown",
   "metadata": {},
   "source": [
    "- Vemos que visualmente há presença de outliers nas variáveis ValorMonetário e Frequência."
   ]
  },
  {
   "cell_type": "code",
   "execution_count": 27,
   "metadata": {},
   "outputs": [
    {
     "data": {
      "text/html": [
       "<div>\n",
       "<style scoped>\n",
       "    .dataframe tbody tr th:only-of-type {\n",
       "        vertical-align: middle;\n",
       "    }\n",
       "\n",
       "    .dataframe tbody tr th {\n",
       "        vertical-align: top;\n",
       "    }\n",
       "\n",
       "    .dataframe thead th {\n",
       "        text-align: right;\n",
       "    }\n",
       "</style>\n",
       "<table border=\"1\" class=\"dataframe\">\n",
       "  <thead>\n",
       "    <tr style=\"text-align: right;\">\n",
       "      <th></th>\n",
       "      <th>Recencia</th>\n",
       "      <th>Frequencia</th>\n",
       "      <th>ValorMonetario</th>\n",
       "    </tr>\n",
       "  </thead>\n",
       "  <tbody>\n",
       "    <tr>\n",
       "      <th>0</th>\n",
       "      <td>6</td>\n",
       "      <td>31</td>\n",
       "      <td>711.79</td>\n",
       "    </tr>\n",
       "    <tr>\n",
       "      <th>1</th>\n",
       "      <td>63</td>\n",
       "      <td>17</td>\n",
       "      <td>334.40</td>\n",
       "    </tr>\n",
       "    <tr>\n",
       "      <th>2</th>\n",
       "      <td>77</td>\n",
       "      <td>15</td>\n",
       "      <td>296.50</td>\n",
       "    </tr>\n",
       "    <tr>\n",
       "      <th>3</th>\n",
       "      <td>169</td>\n",
       "      <td>4</td>\n",
       "      <td>89.00</td>\n",
       "    </tr>\n",
       "    <tr>\n",
       "      <th>4</th>\n",
       "      <td>159</td>\n",
       "      <td>13</td>\n",
       "      <td>459.40</td>\n",
       "    </tr>\n",
       "  </tbody>\n",
       "</table>\n",
       "</div>"
      ],
      "text/plain": [
       "   Recencia  Frequencia  ValorMonetario\n",
       "0         6          31          711.79\n",
       "1        63          17          334.40\n",
       "2        77          15          296.50\n",
       "3       169           4           89.00\n",
       "4       159          13          459.40"
      ]
     },
     "execution_count": 27,
     "metadata": {},
     "output_type": "execute_result"
    }
   ],
   "source": [
    "# Calculando os limites inferior e superior usando o IQR\n",
    "Q1 = final_df.quantile(0.25)\n",
    "Q3 = final_df.quantile(0.75)\n",
    "IQR = Q3 - Q1\n",
    "\n",
    "# Definindo os limites\n",
    "lower_bound = Q1 - 1.5 * IQR\n",
    "upper_bound = Q3 + 1.5 * IQR\n",
    "\n",
    "# Filtrando os outliers\n",
    "filtered_df = final_df[~((final_df < lower_bound) | (final_df > upper_bound)).any(axis=1)]\n",
    "\n",
    "# Resetando o índice\n",
    "filtered_df = filtered_df.reset_index(drop=True)\n",
    "\n",
    "# Exibindo o novo DataFrame filtrado\n",
    "filtered_df.head()"
   ]
  },
  {
   "cell_type": "markdown",
   "metadata": {},
   "source": [
    "5. Padronização\n",
    "- É importante realizar a análise das unidades de medidas, assim, visto que as que estamos trabalhando possuem unidades distintas é necessário a padronização das mesmas."
   ]
  },
  {
   "cell_type": "code",
   "execution_count": 31,
   "metadata": {},
   "outputs": [
    {
     "name": "stdout",
     "output_type": "stream",
     "text": [
      "Recencia         -0.0\n",
      "Frequencia       -0.0\n",
      "ValorMonetario   -0.0\n",
      "dtype: float64\n",
      "Recencia          1.0\n",
      "Frequencia        1.0\n",
      "ValorMonetario    1.0\n",
      "dtype: float64\n"
     ]
    }
   ],
   "source": [
    "# Padronização pelo z-score\n",
    "df_pad = filtered_df.apply(zscore, ddof=1)\n",
    "# Visualizando o resultado do procedimento na média e desvio padrão\n",
    "print(round(df_pad.mean(), 3))\n",
    "print(round(df_pad.std(), 3))\n"
   ]
  },
  {
   "cell_type": "markdown",
   "metadata": {},
   "source": [
    "6. Construindo o Modelo"
   ]
  },
  {
   "cell_type": "code",
   "execution_count": 32,
   "metadata": {},
   "outputs": [
    {
     "name": "stderr",
     "output_type": "stream",
     "text": [
      "c:\\Users\\Eric\\anaconda3\\Lib\\site-packages\\sklearn\\cluster\\_kmeans.py:1412: FutureWarning:\n",
      "\n",
      "The default value of `n_init` will change from 10 to 'auto' in 1.4. Set the value of `n_init` explicitly to suppress the warning\n",
      "\n",
      "c:\\Users\\Eric\\anaconda3\\Lib\\site-packages\\sklearn\\cluster\\_kmeans.py:1412: FutureWarning:\n",
      "\n",
      "The default value of `n_init` will change from 10 to 'auto' in 1.4. Set the value of `n_init` explicitly to suppress the warning\n",
      "\n",
      "c:\\Users\\Eric\\anaconda3\\Lib\\site-packages\\sklearn\\cluster\\_kmeans.py:1412: FutureWarning:\n",
      "\n",
      "The default value of `n_init` will change from 10 to 'auto' in 1.4. Set the value of `n_init` explicitly to suppress the warning\n",
      "\n",
      "c:\\Users\\Eric\\anaconda3\\Lib\\site-packages\\sklearn\\cluster\\_kmeans.py:1412: FutureWarning:\n",
      "\n",
      "The default value of `n_init` will change from 10 to 'auto' in 1.4. Set the value of `n_init` explicitly to suppress the warning\n",
      "\n",
      "c:\\Users\\Eric\\anaconda3\\Lib\\site-packages\\sklearn\\cluster\\_kmeans.py:1412: FutureWarning:\n",
      "\n",
      "The default value of `n_init` will change from 10 to 'auto' in 1.4. Set the value of `n_init` explicitly to suppress the warning\n",
      "\n",
      "c:\\Users\\Eric\\anaconda3\\Lib\\site-packages\\sklearn\\cluster\\_kmeans.py:1412: FutureWarning:\n",
      "\n",
      "The default value of `n_init` will change from 10 to 'auto' in 1.4. Set the value of `n_init` explicitly to suppress the warning\n",
      "\n",
      "c:\\Users\\Eric\\anaconda3\\Lib\\site-packages\\sklearn\\cluster\\_kmeans.py:1412: FutureWarning:\n",
      "\n",
      "The default value of `n_init` will change from 10 to 'auto' in 1.4. Set the value of `n_init` explicitly to suppress the warning\n",
      "\n",
      "c:\\Users\\Eric\\anaconda3\\Lib\\site-packages\\sklearn\\cluster\\_kmeans.py:1412: FutureWarning:\n",
      "\n",
      "The default value of `n_init` will change from 10 to 'auto' in 1.4. Set the value of `n_init` explicitly to suppress the warning\n",
      "\n",
      "c:\\Users\\Eric\\anaconda3\\Lib\\site-packages\\sklearn\\cluster\\_kmeans.py:1412: FutureWarning:\n",
      "\n",
      "The default value of `n_init` will change from 10 to 'auto' in 1.4. Set the value of `n_init` explicitly to suppress the warning\n",
      "\n",
      "c:\\Users\\Eric\\anaconda3\\Lib\\site-packages\\sklearn\\cluster\\_kmeans.py:1412: FutureWarning:\n",
      "\n",
      "The default value of `n_init` will change from 10 to 'auto' in 1.4. Set the value of `n_init` explicitly to suppress the warning\n",
      "\n"
     ]
    },
    {
     "data": {
      "image/png": "[encoded data removed]",
      "text/plain": [
       "<Figure size 1600x800 with 1 Axes>"
      ]
     },
     "metadata": {},
     "output_type": "display_data"
    }
   ],
   "source": [
    "#%% Identificação da quantidade de clusters (Método Elbow)\n",
    "\n",
    "elbow = []\n",
    "K = range(1,11) # ponto de parada pode ser parametrizado manualmente\n",
    "for k in K:\n",
    "    kmeanElbow = KMeans(n_clusters=k, init='random', random_state=100).fit(df_pad)\n",
    "    elbow.append(kmeanElbow.inertia_)\n",
    "    \n",
    "plt.figure(figsize=(16,8))\n",
    "plt.plot(K, elbow, marker='o')\n",
    "plt.xlabel('Nº Clusters', fontsize=16)\n",
    "plt.xticks(range(1,11)) # ajustar range\n",
    "plt.ylabel('WCSS', fontsize=16)\n",
    "plt.title('Método de Elbow', fontsize=16)\n",
    "plt.show()"
   ]
  },
  {
   "cell_type": "code",
   "execution_count": 35,
   "metadata": {},
   "outputs": [
    {
     "name": "stderr",
     "output_type": "stream",
     "text": [
      "c:\\Users\\Eric\\anaconda3\\Lib\\site-packages\\sklearn\\cluster\\_kmeans.py:1412: FutureWarning:\n",
      "\n",
      "The default value of `n_init` will change from 10 to 'auto' in 1.4. Set the value of `n_init` explicitly to suppress the warning\n",
      "\n",
      "c:\\Users\\Eric\\anaconda3\\Lib\\site-packages\\sklearn\\cluster\\_kmeans.py:1412: FutureWarning:\n",
      "\n",
      "The default value of `n_init` will change from 10 to 'auto' in 1.4. Set the value of `n_init` explicitly to suppress the warning\n",
      "\n",
      "c:\\Users\\Eric\\anaconda3\\Lib\\site-packages\\sklearn\\cluster\\_kmeans.py:1412: FutureWarning:\n",
      "\n",
      "The default value of `n_init` will change from 10 to 'auto' in 1.4. Set the value of `n_init` explicitly to suppress the warning\n",
      "\n",
      "c:\\Users\\Eric\\anaconda3\\Lib\\site-packages\\sklearn\\cluster\\_kmeans.py:1412: FutureWarning:\n",
      "\n",
      "The default value of `n_init` will change from 10 to 'auto' in 1.4. Set the value of `n_init` explicitly to suppress the warning\n",
      "\n",
      "c:\\Users\\Eric\\anaconda3\\Lib\\site-packages\\sklearn\\cluster\\_kmeans.py:1412: FutureWarning:\n",
      "\n",
      "The default value of `n_init` will change from 10 to 'auto' in 1.4. Set the value of `n_init` explicitly to suppress the warning\n",
      "\n",
      "c:\\Users\\Eric\\anaconda3\\Lib\\site-packages\\sklearn\\cluster\\_kmeans.py:1412: FutureWarning:\n",
      "\n",
      "The default value of `n_init` will change from 10 to 'auto' in 1.4. Set the value of `n_init` explicitly to suppress the warning\n",
      "\n",
      "c:\\Users\\Eric\\anaconda3\\Lib\\site-packages\\sklearn\\cluster\\_kmeans.py:1412: FutureWarning:\n",
      "\n",
      "The default value of `n_init` will change from 10 to 'auto' in 1.4. Set the value of `n_init` explicitly to suppress the warning\n",
      "\n",
      "c:\\Users\\Eric\\anaconda3\\Lib\\site-packages\\sklearn\\cluster\\_kmeans.py:1412: FutureWarning:\n",
      "\n",
      "The default value of `n_init` will change from 10 to 'auto' in 1.4. Set the value of `n_init` explicitly to suppress the warning\n",
      "\n",
      "c:\\Users\\Eric\\anaconda3\\Lib\\site-packages\\sklearn\\cluster\\_kmeans.py:1412: FutureWarning:\n",
      "\n",
      "The default value of `n_init` will change from 10 to 'auto' in 1.4. Set the value of `n_init` explicitly to suppress the warning\n",
      "\n"
     ]
    },
    {
     "data": {
      "image/png": "[encoded data removed]",
      "text/plain": [
       "<Figure size 1600x800 with 1 Axes>"
      ]
     },
     "metadata": {},
     "output_type": "display_data"
    }
   ],
   "source": [
    "#%% Identificação da quantidade de clusters (Método da Silhueta)\n",
    "\n",
    "silhueta = []\n",
    "I = range(2,11) # ponto de parada pode ser parametrizado manualmente\n",
    "for i in I: \n",
    "    kmeansSil = KMeans(n_clusters=i, init='random', random_state=100).fit(df_pad)\n",
    "    silhueta.append(silhouette_score(df_pad, kmeansSil.labels_))\n",
    "\n",
    "plt.figure(figsize=(16,8))\n",
    "plt.plot(range(2, 11), silhueta, color = 'purple', marker='o')\n",
    "plt.xlabel('Nº Clusters', fontsize=16)\n",
    "plt.ylabel('Silhueta Média', fontsize=16)\n",
    "plt.title('Método da Silhueta', fontsize=16)\n",
    "plt.axvline(x = silhueta.index(max(silhueta))+2, linestyle = 'dotted', color = 'red') \n",
    "plt.show()\n"
   ]
  },
  {
   "cell_type": "markdown",
   "metadata": {},
   "source": [
    "- De acordo com os métodos, o melhor número de clusters para ser utilizado no K-means é de 4."
   ]
  },
  {
   "cell_type": "code",
   "execution_count": 36,
   "metadata": {},
   "outputs": [
    {
     "name": "stderr",
     "output_type": "stream",
     "text": [
      "c:\\Users\\Eric\\anaconda3\\Lib\\site-packages\\sklearn\\cluster\\_kmeans.py:1412: FutureWarning:\n",
      "\n",
      "The default value of `n_init` will change from 10 to 'auto' in 1.4. Set the value of `n_init` explicitly to suppress the warning\n",
      "\n"
     ]
    }
   ],
   "source": [
    "# Cluster Não Hierárquico K-means\n",
    "\n",
    "# Vamos considerar 4 clusters, considerando as evidências anteriores!\n",
    "\n",
    "kmeans_final = KMeans(n_clusters = 4, init = 'random', random_state=100).fit(df_pad)\n",
    "\n",
    "# Gerando a variável para identificarmos os clusters gerados\n",
    "\n",
    "kmeans_clusters = kmeans_final.labels_\n",
    "filtered_df['cluster_kmeans'] = kmeans_clusters\n",
    "df_pad['cluster_kmeans'] = kmeans_clusters\n",
    "filtered_df['cluster_kmeans'] = filtered_df['cluster_kmeans'].astype('category')\n",
    "df_pad['cluster_kmeans'] = df_pad['cluster_kmeans'].astype('category')"
   ]
  },
  {
   "cell_type": "markdown",
   "metadata": {},
   "source": [
    "7. Conlusão"
   ]
  },
  {
   "cell_type": "code",
   "execution_count": 39,
   "metadata": {},
   "outputs": [
    {
     "name": "stdout",
     "output_type": "stream",
     "text": [
      "Recencia\n",
      "Frequencia\n",
      "ValorMonetario\n",
      "cluster_kmeans\n"
     ]
    }
   ],
   "source": [
    "mean_df = filtered_df.groupby(['cluster_kmeans'], as_index=False).mean()\n",
    "for i in filtered_df.columns:\n",
    "    print(i)\n",
    "    fig = px.bar(mean_df,\n",
    "                x='cluster_kmeans',\n",
    "                y=str(i))\n",
    "    fig.show()"
   ]
  },
  {
   "cell_type": "markdown",
   "metadata": {},
   "source": [
    "- Cluster 0: Consumidores que possuem alta frquência e recência moderada. São consumidores que compram com muita frequência e que não são tão novos nem antigos. Uma boa estratégia seria o entendimento do que esses consumidores mais compram e personalizar uma recomendação com produtos de maior valor agregado que estão relacionados de acordo com outros dados.\n",
    "- Cluster 1: Menor valor monetário, menor frequência e menor recência. São consumidores que não compram com muita frequência e que não engajaram recentemente. São consumidores mais antigos e que compram com pouca frequência, assim pode-se fazer \n",
    "- Cluster 2: Maior recência. São consumidores que tem a maior recência, então são consumidores que engajaram recentemente, ou seja, consumidores novos, assim uma pesquisas de satisfação com coleta de feedback para entender suas necessidades e ajustar as estratégias para esse grupo seria uma boa. Também, enviar um email de boas-vindas e um desconto de 10% na próxima compra para ajudar na fidelização desse grupo e sugerir outros produtos compatíveis com sua última compra.\n",
    "- Cluster 3: Maior valor monetário e segunda maior frequência. Esse grupo de consumidores são o grupo que mais gastaram com os produtos, também são consumidores que compram com uma boa frequência, assim elaborar níveis de fidelidade (bronze, prata, ouro) que ofereçam benefícios crescentes para incentivar ainda mais compras e lealdade.\n",
    "- Valor monetário entre os clusters 0, 1 e 2 são muito próximos."
   ]
  }
 ],
 "metadata": {
  "kernelspec": {
   "display_name": "base",
   "language": "python",
   "name": "python3"
  },
  "language_info": {
   "codemirror_mode": {
    "name": "ipython",
    "version": 3
   },
   "file_extension": ".py",
   "mimetype": "text/x-python",
   "name": "python",
   "nbconvert_exporter": "python",
   "pygments_lexer": "ipython3",
   "version": "3.11.5"
  }
 },
 "nbformat": 4,
 "nbformat_minor": 2
}
